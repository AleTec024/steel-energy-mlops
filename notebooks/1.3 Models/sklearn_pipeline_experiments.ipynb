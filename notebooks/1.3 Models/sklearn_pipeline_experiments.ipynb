{
  "cells": [
    {
      "cell_type": "markdown",
      "metadata": {},
      "source": [
        "# Scikit-learn Pipeline Experiments\n",
        "Este cuaderno reutiliza modulos de `src.pipelines` para cargar datos, \n",
        "preparar atributos y ejecutar experimentos con diferentes modelos de regresion.\n"
      ]
    },
    {
      "cell_type": "markdown",
      "metadata": {},
      "source": [
        "## 1. Configuracion\n",
        "Las celdas iniciales solo ajustan el entorno y cargan utilidades.\n"
      ]
    },
    {
      "cell_type": "code",
      "execution_count": null,
      "metadata": {},
      "outputs": [],
      "source": [
        "import sys\n",
        "from pathlib import Path\n",
        "\n",
        "candidates = [Path.cwd()] + list(Path.cwd().parents)\n",
        "for candidate in candidates:\n",
        "    if (candidate / 'src').exists():\n",
        "        project_root = candidate\n",
        "        if str(project_root) not in sys.path:\n",
        "            sys.path.append(str(project_root))\n",
        "        break\n",
        "else:\n",
        "    raise FileNotFoundError('No se encontro la carpeta src en la jerarquia de directorios.')\n"
      ]
    },
    {
      "cell_type": "code",
      "execution_count": null,
      "metadata": {},
      "outputs": [],
      "source": [
        "import pandas as pd\n",
        "\n",
        "from src.pipelines.data_setup import (\n",
        "    DEFAULT_FEATURE_CONFIG,\n",
        "    build_feature_frame,\n",
        "    load_clean_dataframe,\n",
        "    split_train_test,\n",
        ")\n",
        "from src.pipelines.experiment_pipelines import (\n",
        "    build_linear_pipeline,\n",
        "    build_xgb_pipeline,\n",
        "    cross_validate_pipeline,\n",
        "    evaluate_regression,\n",
        "    get_default_xgb_param_grid,\n",
        "    run_xgb_grid_search,\n",
        ")\n"
      ]
    },
    {
      "cell_type": "markdown",
      "metadata": {},
      "source": [
        "## 2. Carga y preparacion de datos\n",
        "El modulo `data_setup` encapsula la carga del CSV limpio, la seleccion de columnas y la particion train/test.\n"
      ]
    },
    {
      "cell_type": "code",
      "execution_count": null,
      "metadata": {},
      "outputs": [],
      "source": [
        "feature_config = DEFAULT_FEATURE_CONFIG\n",
        "df = load_clean_dataframe()\n",
        "feature_df, target = build_feature_frame(df, feature_config)\n",
        "X_train, X_test, y_train, y_test = split_train_test(feature_df, target)\n",
        "df.shape, feature_df.shape\n"
      ]
    },
    {
      "cell_type": "code",
      "execution_count": null,
      "metadata": {},
      "outputs": [],
      "source": [
        "feature_config.to_dict()\n"
      ]
    },
    {
      "cell_type": "markdown",
      "metadata": {},
      "source": [
        "## 3. Modelo base: Linear Regression\n",
        "Se instancia el pipeline desde `experiment_pipelines`, se evalua con cross-validation y \n",
        "un conjunto hold-out.\n"
      ]
    },
    {
      "cell_type": "code",
      "execution_count": null,
      "metadata": {},
      "outputs": [],
      "source": [
        "linear_pipeline = build_linear_pipeline(feature_config)\n",
        "linear_cv_results, linear_cv_summary = cross_validate_pipeline(\n",
        "    linear_pipeline, feature_df, target\n",
        ")\n",
        "linear_pipeline.fit(X_train, y_train)\n",
        "linear_metrics = evaluate_regression(\n",
        "    linear_pipeline, X_train, X_test, y_train, y_test, 'LinearRegression'\n",
        ")\n",
        "linear_cv_summary.round(4)\n"
      ]
    },
    {
      "cell_type": "code",
      "execution_count": null,
      "metadata": {},
      "outputs": [],
      "source": [
        "pd.DataFrame([linear_metrics]).round(4)\n"
      ]
    },
    {
      "cell_type": "markdown",
      "metadata": {},
      "source": [
        "## 4. Modelo XGBoost\n",
        "El pipeline se reutiliza y se ejecuta una busqueda en rejilla utilizando los valores por defecto del modulo.\n"
      ]
    },
    {
      "cell_type": "code",
      "execution_count": null,
      "metadata": {},
      "outputs": [],
      "source": [
        "xgb_pipeline = build_xgb_pipeline(feature_config)\n",
        "xgb_grid = run_xgb_grid_search(\n",
        "    xgb_pipeline,\n",
        "    X_train,\n",
        "    y_train,\n",
        "    param_grid=get_default_xgb_param_grid(),\n",
        ")\n",
        "xgb_best = xgb_grid.best_estimator_\n",
        "xgb_metrics = evaluate_regression(\n",
        "    xgb_best, X_train, X_test, y_train, y_test, 'XGBRegressor'\n",
        ")\n",
        "xgb_grid.best_params_\n"
      ]
    },
    {
      "cell_type": "code",
      "execution_count": null,
      "metadata": {},
      "outputs": [],
      "source": [
        "pd.DataFrame([xgb_metrics]).round(4)\n"
      ]
    },
    {
      "cell_type": "markdown",
      "metadata": {},
      "source": [
        "## 5. Comparativa rapida\n",
        "Los resultados se consolidan para facilitar la lectura. Puedes crear modulos adicionales para otros modelos y \n",
        "reutilizar las mismas funciones.\n"
      ]
    },
    {
      "cell_type": "code",
      "execution_count": null,
      "metadata": {},
      "outputs": [],
      "source": [
        "results_df = pd.DataFrame([linear_metrics, xgb_metrics]).round(4)\n",
        "results_df\n"
      ]
    }
  ],
  "metadata": {
    "kernelspec": {
      "display_name": "Python 3",
      "language": "python",
      "name": "python3"
    },
    "language_info": {
      "name": "python",
      "version": "3.10"
    }
  },
  "nbformat": 4,
  "nbformat_minor": 5
}