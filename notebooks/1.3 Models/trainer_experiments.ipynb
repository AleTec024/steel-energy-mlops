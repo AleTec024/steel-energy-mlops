{
  "cells": [
    {
      "cell_type": "markdown",
      "metadata": {},
      "source": [
        "# Experimentos con ModelTrainers\n",
        "Este cuaderno usa las clases `ModelTrainer` existentes en `src/models` junto con la configuracion de `params.yaml` para evaluar los modelos soportados.\n"
      ]
    },
    {
      "cell_type": "markdown",
      "metadata": {},
      "source": [
        "## 1. Configuracion del entorno\n",
        "Se a?ade la carpeta `src` al `PYTHONPATH` para importar modulos del proyecto.\n"
      ]
    },
    {
      "cell_type": "code",
      "execution_count": null,
      "metadata": {},
      "outputs": [],
      "source": [
        "import os\n",
        "import sys\n",
        "from pathlib import Path\n",
        "\n",
        "for candidate in [Path.cwd(), *Path.cwd().parents]:\n",
        "    if (candidate / 'src').exists():\n",
        "        project_root = candidate\n",
        "        if str(project_root) not in sys.path:\n",
        "            sys.path.append(str(project_root))\n",
        "        break\n",
        "else:\n",
        "    raise FileNotFoundError('No se encontro la carpeta src en la jerarquia.')\n",
        "\n",
        "os.chdir(project_root)\n",
        "print(f'Usando project_root: {project_root}')\n"
      ]
    },
    {
      "cell_type": "markdown",
      "metadata": {},
      "source": [
        "## 2. Cargar configuracion y utilidades\n",
        "Se reutilizan `params.yaml`, `DataLoader` y `FeatureEngineer` tal como lo hace `src/main.py`.\n"
      ]
    },
    {
      "cell_type": "code",
      "execution_count": null,
      "metadata": {},
      "outputs": [],
      "source": [
        "import json\n",
        "import yaml\n",
        "import pandas as pd\n",
        "\n",
        "from src.data.data_loader import DataLoader\n",
        "from src.data.feature_engineer import FeatureEngineer\n",
        "from src.models.xgboost_model.model_trainer import ModelTrainer as XGBTrainer\n",
        "from src.models.random_forest_model.model_trainer import ModelTrainer as RFTrainer\n",
        "from src.models.linear_regression_model.model_trainer import ModelTrainer as LRTrainer\n",
        "\n",
        "params_path = project_root / 'params.yaml'\n",
        "with params_path.open('r') as f:\n",
        "    cfg = yaml.safe_load(f)\n",
        "print(f'Configuracion cargada desde: {params_path}')\n",
        "cfg\n"
      ]
    },
    {
      "cell_type": "markdown",
      "metadata": {},
      "source": [
        "## 3. Ejecutar data loader y feature engineering\n",
        "Reproduce los pasos iniciales de la pipeline: carga datos limpios y genera conjuntos de entrenamiento/prueba usando `FeatureEngineer`.\n"
      ]
    },
    {
      "cell_type": "code",
      "execution_count": null,
      "metadata": {},
      "outputs": [],
      "source": [
        "raw_path = project_root / cfg['data']['raw_path']\n",
        "processed_path = project_root / cfg['data']['processed_path']\n",
        "\n",
        "loader = DataLoader(str(raw_path), str(processed_path))\n",
        "processed_df = loader.run()  # devuelve el dataframe procesado\n",
        "\n",
        "features = cfg['features']['selected']\n",
        "target = cfg['features']['target']\n",
        "feature_engineer = FeatureEngineer(features, target)\n",
        "X_train, X_test, y_train, y_test = feature_engineer.run(processed_df)\n",
        "X_train.shape, X_test.shape\n"
      ]
    },
    {
      "cell_type": "markdown",
      "metadata": {},
      "source": [
        "## 4. Funciones auxiliares\n",
        "Utilidades para registrar m?tricas de cada modelo.\n"
      ]
    },
    {
      "cell_type": "code",
      "execution_count": null,
      "metadata": {},
      "outputs": [],
      "source": [
        "def summarize_metrics(label, metrics):\n",
        "    display(pd.DataFrame([metrics], index=[label]).round(4))\n",
        "\n",
        "def run_experiment(trainer_cls, params, label):\n",
        "    trainer = trainer_cls(model_params=params)\n",
        "    metrics = trainer.run(X_train, X_test, y_train, y_test)\n",
        "    summarize_metrics(label, metrics)\n",
        "    cv_scores = trainer.cross_validate(X_train, y_train)\n",
        "    return metrics, cv_scores\n"
      ]
    },
    {
      "cell_type": "markdown",
      "metadata": {},
      "source": [
        "## 5. Experimentos con los modelos definidos en params.yaml\n",
        "Se ejecuta cada `ModelTrainer` con los hiperpar?metros especificados.\n"
      ]
    },
    {
      "cell_type": "code",
      "execution_count": null,
      "metadata": {},
      "outputs": [],
      "source": [
        "results = {}\n",
        "cv_details = {}\n",
        "\n",
        "# Linear Regression\n",
        "lr_params = cfg['train']['linear_regression']\n",
        "results['linear_regression'], cv_details['linear_regression'] = run_experiment(\n",
        "    LRTrainer, lr_params, 'LinearRegression'\n",
        ")\n",
        "\n",
        "# Random Forest\n",
        "rf_params = cfg['train']['random_forest']\n",
        "results['random_forest'], cv_details['random_forest'] = run_experiment(\n",
        "    RFTrainer, rf_params, 'RandomForestRegressor'\n",
        ")\n",
        "\n",
        "# XGBoost\n",
        "xgb_params = cfg['train']['xgboost']\n",
        "results['xgboost'], cv_details['xgboost'] = run_experiment(\n",
        "    XGBTrainer, xgb_params, 'XGBRegressor'\n",
        ")\n"
      ]
    },
    {
      "cell_type": "markdown",
      "metadata": {},
      "source": [
        "## 6. Comparativa de resultados\n",
        "Se consolidan las m?tricas de entrenamiento y prueba para todos los modelos.\n"
      ]
    },
    {
      "cell_type": "code",
      "execution_count": null,
      "metadata": {},
      "outputs": [],
      "source": [
        "results_df = pd.DataFrame(results).T\n",
        "results_df.round(4)\n"
      ]
    },
    {
      "cell_type": "markdown",
      "metadata": {},
      "source": [
        "## 7. Resultados de Cross-Validation\n",
        "Se guarda un resumen de los scores de CV para consulta posterior.\n"
      ]
    },
    {
      "cell_type": "code",
      "execution_count": null,
      "metadata": {},
      "outputs": [],
      "source": [
        "cv_json = {name: scores.tolist() if hasattr(scores, 'tolist') else list(scores)\n",
        "           for name, scores in cv_details.items()}\n",
        "print(json.dumps(cv_json, indent=2))\n"
      ]
    }
  ],
  "metadata": {
    "kernelspec": {
      "display_name": "Python 3",
      "language": "python",
      "name": "python3"
    },
    "language_info": {
      "name": "python",
      "version": "3.10"
    }
  },
  "nbformat": 4,
  "nbformat_minor": 5
}