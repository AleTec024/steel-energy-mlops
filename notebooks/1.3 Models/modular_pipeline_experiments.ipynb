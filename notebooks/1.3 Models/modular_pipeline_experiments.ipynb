{
  "cells": [
    {
      "cell_type": "markdown",
      "metadata": {},
      "source": [
        "# Experimentos de Pipelines Modulares\n",
        "Este cuaderno utiliza los modulos `src.pipelines.data_setup` y `src.pipelines.experiment_pipelines` para \n",
        "cargar datos, preparar atributos y evaluar modelos de manera reproducible.\n"
      ]
    },
    {
      "cell_type": "markdown",
      "metadata": {},
      "source": [
        "## 1. Configuracion del entorno\n",
        "Se asegura que el paquete `src` este disponible para importar los modulos.\n"
      ]
    },
    {
      "cell_type": "code",
      "execution_count": 1,
      "metadata": {},
      "outputs": [],
      "source": [
        "import sys\n",
        "from pathlib import Path\n",
        "\n",
        "candidates = [Path.cwd()] + list(Path.cwd().parents)\n",
        "for candidate in candidates:\n",
        "    if (candidate / 'src').exists():\n",
        "        project_root = candidate\n",
        "        if str(project_root) not in sys.path:\n",
        "            sys.path.append(str(project_root))\n",
        "        break\n",
        "else:\n",
        "    raise FileNotFoundError('No se encontro la carpeta src en la jerarquia de directorios.')\n"
      ]
    },
    {
      "cell_type": "markdown",
      "metadata": {},
      "source": [
        "## 2. Importar utilidades\n",
        "Se reutilizan las funciones creadas para la carga de datos y la construccion de pipelines.\n"
      ]
    },
    {
      "cell_type": "code",
      "execution_count": 2,
      "metadata": {},
      "outputs": [],
      "source": [
        "import pandas as pd\n",
        "\n",
        "from src.pipelines.data_setup import (\n",
        "    DEFAULT_FEATURE_CONFIG,\n",
        "    build_feature_frame,\n",
        "    load_clean_dataframe,\n",
        "    split_train_test,\n",
        ")\n",
        "from src.pipelines.experiment_pipelines import (\n",
        "    build_linear_pipeline,\n",
        "    build_xgb_pipeline,\n",
        "    cross_validate_pipeline,\n",
        "    evaluate_regression,\n",
        "    get_default_xgb_param_grid,\n",
        "    run_xgb_grid_search,\n",
        ")\n"
      ]
    },
    {
      "cell_type": "markdown",
      "metadata": {},
      "source": [
        "## 3. Cargar datos preparados\n",
        "El modulo `data_setup` encapsula la localizacion del CSV limpio y la preparacion de variables.\n"
      ]
    },
    {
      "cell_type": "code",
      "execution_count": 3,
      "metadata": {},
      "outputs": [
        {
          "name": "stdout",
          "output_type": "stream",
          "text": [
            "[INFO] Loaded dataset — Rows: 32966, Columns: 11\n",
            "[INFO] Column validation passed.\n"
          ]
        },
        {
          "data": {
            "text/plain": [
              "((12236, 11), (12236, 10))"
            ]
          },
          "execution_count": 3,
          "metadata": {},
          "output_type": "execute_result"
        }
      ],
      "source": [
        "feature_config = DEFAULT_FEATURE_CONFIG\n",
        "df = load_clean_dataframe()\n",
        "feature_df, target = build_feature_frame(df, feature_config)\n",
        "X_train, X_test, y_train, y_test = split_train_test(feature_df, target)\n",
        "df.shape, feature_df.shape\n"
      ]
    },
    {
      "cell_type": "code",
      "execution_count": 4,
      "metadata": {},
      "outputs": [
        {
          "data": {
            "text/plain": [
              "{'categorical_features': ['weekstatus', 'day_of_week', 'load_type'],\n",
              " 'numeric_base_features': ['lagging_current_reactive.power_kvarh',\n",
              "  'leading_current_reactive_power_kvarh',\n",
              "  'co2(tco2)',\n",
              "  'lagging_current_power_factor',\n",
              "  'leading_current_power_factor',\n",
              "  'nsm'],\n",
              " 'date_feature_names': ['date_hour',\n",
              "  'date_dayofweek',\n",
              "  'date_month',\n",
              "  'date_dayofyear',\n",
              "  'date_sin_hour',\n",
              "  'date_cos_hour'],\n",
              " 'interaction_columns': ['lagging_current_reactive.power_kvarh',\n",
              "  'leading_current_power_factor'],\n",
              " 'interaction_feature_names': ['lagging_current_reactive.power_kvarh__div__leading_current_power_factor'],\n",
              " 'numeric_features_for_scaling': ['lagging_current_reactive.power_kvarh',\n",
              "  'leading_current_reactive_power_kvarh',\n",
              "  'co2(tco2)',\n",
              "  'lagging_current_power_factor',\n",
              "  'leading_current_power_factor',\n",
              "  'nsm',\n",
              "  'date_hour',\n",
              "  'date_dayofweek',\n",
              "  'date_month',\n",
              "  'date_dayofyear',\n",
              "  'date_sin_hour',\n",
              "  'date_cos_hour',\n",
              "  'lagging_current_reactive.power_kvarh__div__leading_current_power_factor'],\n",
              " 'target': ['usage_kwh']}"
            ]
          },
          "execution_count": 4,
          "metadata": {},
          "output_type": "execute_result"
        }
      ],
      "source": [
        "feature_config.to_dict()\n"
      ]
    },
    {
      "cell_type": "markdown",
      "metadata": {},
      "source": [
        "## 4. Pipeline con Linear Regression\n",
        "Se evalua el pipeline lineal con cross-validation y m?tricas en el conjunto de prueba.\n"
      ]
    },
    {
      "cell_type": "code",
      "execution_count": 5,
      "metadata": {},
      "outputs": [
        {
          "data": {
            "text/html": [
              "<div>\n",
              "<style scoped>\n",
              "    .dataframe tbody tr th:only-of-type {\n",
              "        vertical-align: middle;\n",
              "    }\n",
              "\n",
              "    .dataframe tbody tr th {\n",
              "        vertical-align: top;\n",
              "    }\n",
              "\n",
              "    .dataframe thead th {\n",
              "        text-align: right;\n",
              "    }\n",
              "</style>\n",
              "<table border=\"1\" class=\"dataframe\">\n",
              "  <thead>\n",
              "    <tr style=\"text-align: right;\">\n",
              "      <th></th>\n",
              "      <th>metric</th>\n",
              "      <th>train_mean</th>\n",
              "      <th>test_mean</th>\n",
              "      <th>test_std</th>\n",
              "    </tr>\n",
              "  </thead>\n",
              "  <tbody>\n",
              "    <tr>\n",
              "      <th>0</th>\n",
              "      <td>rmse</td>\n",
              "      <td>0.2388</td>\n",
              "      <td>0.2485</td>\n",
              "      <td>0.0572</td>\n",
              "    </tr>\n",
              "    <tr>\n",
              "      <th>1</th>\n",
              "      <td>mae</td>\n",
              "      <td>0.1055</td>\n",
              "      <td>0.1130</td>\n",
              "      <td>0.0206</td>\n",
              "    </tr>\n",
              "    <tr>\n",
              "      <th>2</th>\n",
              "      <td>r2</td>\n",
              "      <td>0.9465</td>\n",
              "      <td>0.9405</td>\n",
              "      <td>0.0165</td>\n",
              "    </tr>\n",
              "  </tbody>\n",
              "</table>\n",
              "</div>"
            ],
            "text/plain": [
              "  metric  train_mean  test_mean  test_std\n",
              "0   rmse      0.2388     0.2485    0.0572\n",
              "1    mae      0.1055     0.1130    0.0206\n",
              "2     r2      0.9465     0.9405    0.0165"
            ]
          },
          "execution_count": 5,
          "metadata": {},
          "output_type": "execute_result"
        }
      ],
      "source": [
        "linear_pipeline = build_linear_pipeline(feature_config)\n",
        "linear_cv_results, linear_cv_summary = cross_validate_pipeline(\n",
        "    linear_pipeline, feature_df, target\n",
        ")\n",
        "linear_pipeline.fit(X_train, y_train)\n",
        "linear_metrics = evaluate_regression(\n",
        "    linear_pipeline, X_train, X_test, y_train, y_test, 'LinearRegression'\n",
        ")\n",
        "linear_cv_summary.round(4)\n"
      ]
    },
    {
      "cell_type": "code",
      "execution_count": 6,
      "metadata": {},
      "outputs": [
        {
          "data": {
            "text/html": [
              "<div>\n",
              "<style scoped>\n",
              "    .dataframe tbody tr th:only-of-type {\n",
              "        vertical-align: middle;\n",
              "    }\n",
              "\n",
              "    .dataframe tbody tr th {\n",
              "        vertical-align: top;\n",
              "    }\n",
              "\n",
              "    .dataframe thead th {\n",
              "        text-align: right;\n",
              "    }\n",
              "</style>\n",
              "<table border=\"1\" class=\"dataframe\">\n",
              "  <thead>\n",
              "    <tr style=\"text-align: right;\">\n",
              "      <th></th>\n",
              "      <th>model</th>\n",
              "      <th>rmse_train</th>\n",
              "      <th>rmse_test</th>\n",
              "      <th>mae_test</th>\n",
              "      <th>r2_train</th>\n",
              "      <th>r2_test</th>\n",
              "    </tr>\n",
              "  </thead>\n",
              "  <tbody>\n",
              "    <tr>\n",
              "      <th>0</th>\n",
              "      <td>LinearRegression</td>\n",
              "      <td>0.0574</td>\n",
              "      <td>0.0566</td>\n",
              "      <td>0.105</td>\n",
              "      <td>0.9459</td>\n",
              "      <td>0.9479</td>\n",
              "    </tr>\n",
              "  </tbody>\n",
              "</table>\n",
              "</div>"
            ],
            "text/plain": [
              "              model  rmse_train  rmse_test  mae_test  r2_train  r2_test\n",
              "0  LinearRegression      0.0574     0.0566     0.105    0.9459   0.9479"
            ]
          },
          "execution_count": 6,
          "metadata": {},
          "output_type": "execute_result"
        }
      ],
      "source": [
        "pd.DataFrame([linear_metrics]).round(4)\n"
      ]
    },
    {
      "cell_type": "markdown",
      "metadata": {},
      "source": [
        "## 5. Pipeline con XGBoost\n",
        "Se ejecuta una busqueda en rejilla sobre el pipeline de XGBoost reutilizando los valores por defecto del modulo.\n"
      ]
    },
    {
      "cell_type": "code",
      "execution_count": 7,
      "metadata": {},
      "outputs": [
        {
          "name": "stdout",
          "output_type": "stream",
          "text": [
            "Fitting 3 folds for each of 32 candidates, totalling 96 fits\n"
          ]
        },
        {
          "data": {
            "text/plain": [
              "{'regressor__colsample_bytree': 0.7,\n",
              " 'regressor__learning_rate': 0.03,\n",
              " 'regressor__max_depth': 6,\n",
              " 'regressor__n_estimators': 200,\n",
              " 'regressor__subsample': 1.0}"
            ]
          },
          "execution_count": 7,
          "metadata": {},
          "output_type": "execute_result"
        }
      ],
      "source": [
        "xgb_pipeline = build_xgb_pipeline(feature_config)\n",
        "xgb_grid = run_xgb_grid_search(\n",
        "    xgb_pipeline,\n",
        "    X_train,\n",
        "    y_train,\n",
        "    param_grid=get_default_xgb_param_grid(),\n",
        ")\n",
        "xgb_best = xgb_grid.best_estimator_\n",
        "xgb_metrics = evaluate_regression(\n",
        "    xgb_best, X_train, X_test, y_train, y_test, 'XGBRegressor'\n",
        ")\n",
        "xgb_grid.best_params_\n"
      ]
    },
    {
      "cell_type": "code",
      "execution_count": 8,
      "metadata": {},
      "outputs": [
        {
          "data": {
            "text/html": [
              "<div>\n",
              "<style scoped>\n",
              "    .dataframe tbody tr th:only-of-type {\n",
              "        vertical-align: middle;\n",
              "    }\n",
              "\n",
              "    .dataframe tbody tr th {\n",
              "        vertical-align: top;\n",
              "    }\n",
              "\n",
              "    .dataframe thead th {\n",
              "        text-align: right;\n",
              "    }\n",
              "</style>\n",
              "<table border=\"1\" class=\"dataframe\">\n",
              "  <thead>\n",
              "    <tr style=\"text-align: right;\">\n",
              "      <th></th>\n",
              "      <th>model</th>\n",
              "      <th>rmse_train</th>\n",
              "      <th>rmse_test</th>\n",
              "      <th>mae_test</th>\n",
              "      <th>r2_train</th>\n",
              "      <th>r2_test</th>\n",
              "    </tr>\n",
              "  </thead>\n",
              "  <tbody>\n",
              "    <tr>\n",
              "      <th>0</th>\n",
              "      <td>XGBRegressor</td>\n",
              "      <td>0.0269</td>\n",
              "      <td>0.0377</td>\n",
              "      <td>0.0702</td>\n",
              "      <td>0.9747</td>\n",
              "      <td>0.9653</td>\n",
              "    </tr>\n",
              "  </tbody>\n",
              "</table>\n",
              "</div>"
            ],
            "text/plain": [
              "          model  rmse_train  rmse_test  mae_test  r2_train  r2_test\n",
              "0  XGBRegressor      0.0269     0.0377    0.0702    0.9747   0.9653"
            ]
          },
          "execution_count": 8,
          "metadata": {},
          "output_type": "execute_result"
        }
      ],
      "source": [
        "pd.DataFrame([xgb_metrics]).round(4)\n"
      ]
    },
    {
      "cell_type": "markdown",
      "metadata": {},
      "source": [
        "## 6. Comparativa final\n",
        "Se consolidan los resultados para comparar rapidamente los modelos probados.\n"
      ]
    },
    {
      "cell_type": "code",
      "execution_count": 9,
      "metadata": {},
      "outputs": [
        {
          "data": {
            "text/html": [
              "<div>\n",
              "<style scoped>\n",
              "    .dataframe tbody tr th:only-of-type {\n",
              "        vertical-align: middle;\n",
              "    }\n",
              "\n",
              "    .dataframe tbody tr th {\n",
              "        vertical-align: top;\n",
              "    }\n",
              "\n",
              "    .dataframe thead th {\n",
              "        text-align: right;\n",
              "    }\n",
              "</style>\n",
              "<table border=\"1\" class=\"dataframe\">\n",
              "  <thead>\n",
              "    <tr style=\"text-align: right;\">\n",
              "      <th></th>\n",
              "      <th>model</th>\n",
              "      <th>rmse_train</th>\n",
              "      <th>rmse_test</th>\n",
              "      <th>mae_test</th>\n",
              "      <th>r2_train</th>\n",
              "      <th>r2_test</th>\n",
              "    </tr>\n",
              "  </thead>\n",
              "  <tbody>\n",
              "    <tr>\n",
              "      <th>0</th>\n",
              "      <td>LinearRegression</td>\n",
              "      <td>0.0574</td>\n",
              "      <td>0.0566</td>\n",
              "      <td>0.1050</td>\n",
              "      <td>0.9459</td>\n",
              "      <td>0.9479</td>\n",
              "    </tr>\n",
              "    <tr>\n",
              "      <th>1</th>\n",
              "      <td>XGBRegressor</td>\n",
              "      <td>0.0269</td>\n",
              "      <td>0.0377</td>\n",
              "      <td>0.0702</td>\n",
              "      <td>0.9747</td>\n",
              "      <td>0.9653</td>\n",
              "    </tr>\n",
              "  </tbody>\n",
              "</table>\n",
              "</div>"
            ],
            "text/plain": [
              "              model  rmse_train  rmse_test  mae_test  r2_train  r2_test\n",
              "0  LinearRegression      0.0574     0.0566    0.1050    0.9459   0.9479\n",
              "1      XGBRegressor      0.0269     0.0377    0.0702    0.9747   0.9653"
            ]
          },
          "execution_count": 9,
          "metadata": {},
          "output_type": "execute_result"
        }
      ],
      "source": [
        "results_df = pd.DataFrame([linear_metrics, xgb_metrics]).round(4)\n",
        "results_df\n"
      ]
    }
  ],
  "metadata": {
    "kernelspec": {
      "display_name": "Python 3",
      "language": "python",
      "name": "python3"
    },
    "language_info": {
      "codemirror_mode": {
        "name": "ipython",
        "version": 3
      },
      "file_extension": ".py",
      "mimetype": "text/x-python",
      "name": "python",
      "nbconvert_exporter": "python",
      "pygments_lexer": "ipython3",
      "version": "3.13.7"
    }
  },
  "nbformat": 4,
  "nbformat_minor": 5
}
